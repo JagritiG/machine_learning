{
 "cells": [
  {
   "cell_type": "markdown",
   "metadata": {},
   "source": [
    "## K-Nearest Neighbours Algorithm"
   ]
  },
  {
   "cell_type": "markdown",
   "metadata": {},
   "source": [
    "- In statistics, the <b>K-Nearest Neighbors</b> algorithm (k-NN) is a non-parametric method (i.e., not based on parametrized families of probability distributions; common parameters are the mean and the variance). \n",
    "- In k-NN classification, the output is a class membership. An object is classified by a plurality vote of its   neighbors, with the object being assigned to the class most common among its k nearest neighbors (k is a positive integer, typically small). If k = 1, then the object is simply assigned to the class of that single nearest neighbor.\n",
    "- It belongs to the supervised learning domain and finds intense application in pattern recognition, data mining and intrusion detection.\n",
    "- Since this algorithm relies on distance for classification, normalizing the training data can improve its accuracy dramatically."
   ]
  },
  {
   "cell_type": "code",
   "execution_count": null,
   "metadata": {},
   "outputs": [],
   "source": []
  }
 ],
 "metadata": {
  "kernelspec": {
   "display_name": "Python 3",
   "language": "python",
   "name": "python3"
  },
  "language_info": {
   "codemirror_mode": {
    "name": "ipython",
    "version": 3
   },
   "file_extension": ".py",
   "mimetype": "text/x-python",
   "name": "python",
   "nbconvert_exporter": "python",
   "pygments_lexer": "ipython3",
   "version": "3.7.3"
  }
 },
 "nbformat": 4,
 "nbformat_minor": 2
}
