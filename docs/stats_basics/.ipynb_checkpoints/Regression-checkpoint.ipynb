{
 "cells": [
  {
   "cell_type": "markdown",
   "metadata": {},
   "source": [
    "# Regression"
   ]
  },
  {
   "cell_type": "markdown",
   "metadata": {},
   "source": [
    "## Content"
   ]
  },
  {
   "cell_type": "raw",
   "metadata": {},
   "source": [
    "1. Bivariate data and correlation, Scatterplot\n",
    "2. 'Positive', 'Negative', 'Strong', 'Perfect' correlations\n",
    "3. Correlation coefficient\n",
    "4. Properties and Errors of correlation\n",
    "5. Linear Regresstion\n",
    "6. Simple Linear Regression\n",
    "7. Outliers and Influential Points on the Scatterplot\n",
    "8. Multiple Linear Regression\n",
    "9. Polynomial Regression\n",
    "10. Non-Linear Regression\n",
    "11. Coefficient of Determination\n",
    "12. Simple Linear Regression Analysis in Python\n",
    "13. Multiple Linear Regression Analysis in Python\n",
    "14. Polynomial Regression Analysis in Python\n",
    "15. Non-Linear Regression Analysis in Python"
   ]
  },
  {
   "cell_type": "markdown",
   "metadata": {},
   "source": [
    "## Bivariate Data, Correlation Between Values, and Scatterplots"
   ]
  },
  {
   "cell_type": "markdown",
   "metadata": {},
   "source": [
    "1. <b>Correlation</b> measures the association between two related variables.\n",
    "2. <b>Scatterplot</b> provides a visual representation of the relationship between variables\n",
    "3. <b>Positive Correlation</b>: The points on a scatterplot creates a lower-left-to-upper-right pattern\n",
    "4. <b>Negative Correlation</b>: The points on a scatterplot creates a upper-left-to-lower-right pattern\n",
    "5. <b>Perfect Correlation</b>: The points on a scatterplot lie on a straight line \n",
    "6. <b>Zero Correlation</b>: The points on a scatterplot do not have a linear trend\n",
    "7. <b>Strong Correlation</b>: (Magnitude of the relationship); the points on a scatterplot are close to each other\n",
    "8. <b>Weak Correlation</b>: (Magnitude of the relationship); the points on a scatterplot are far away from one another"
   ]
  },
  {
   "cell_type": "markdown",
   "metadata": {},
   "source": [
    "## Correlation Coefficient"
   ]
  },
  {
   "cell_type": "markdown",
   "metadata": {},
   "source": [
    "In statistics, the <b>Correlation Coefficient</b> or the <b>Pearson correlation coefficient</b> (PCC, pronounced /ˈpɪərsən/), also referred to as Pearson's r, the Pearson product-moment correlation coefficient (PPMCC), or the bivariate correlation, is a statistic that measures linear correlation between two variables X and Y. It has a value between +1 and −1. A value of +1 is perfect positive linear correlation, 0 is no linear correlation, and −1 is perfect negative linear correlation. The absolute value of the coefficient indicates the magnitude, or the strength, of the relationship. The closer the absolute value of the coefficient is to 1, the stronger the relationship. "
   ]
  },
  {
   "cell_type": "markdown",
   "metadata": {},
   "source": [
    "<b>Note</b>: Though a correlation coefficient of 0 indicates that there is no linear relationship between the two variables, but there may still be a strong relationship. For example, two variables having quadratic relationship between them have correlation coefficient of 0."
   ]
  },
  {
   "cell_type": "markdown",
   "metadata": {},
   "source": [
    "### How to calculate Correlation Coefficient?"
   ]
  },
  {
   "cell_type": "markdown",
   "metadata": {},
   "source": [
    "Pearson's correlation coefficient is the covariance of the two variables (say, X and Y) divided by the product of their standard deviations. Pearson's correlation coefficient is defined as:"
   ]
  },
  {
   "cell_type": "markdown",
   "metadata": {},
   "source": [
    "\\begin{equation*}\n",
    "r = \n",
    "\\frac{\\sum_{i=1}^{n} \\left( X_i - \\bar X \\right) \\left( Y_i - \\bar Y \\right)}\n",
    "{\\sqrt{\\sum_{i=1}^{n} \\left( X_i - \\bar X \\right)^2} \\sqrt{\\sum_{i=1}^{n} \\left( Y_i - \\bar Y \\right)^2}} \\tag{1}\n",
    "\\end{equation*} "
   ]
  },
  {
   "cell_type": "markdown",
   "metadata": {},
   "source": [
    "With the sample covariance $s_{xy}$ defined as"
   ]
  },
  {
   "cell_type": "markdown",
   "metadata": {},
   "source": [
    "\\begin{equation*}\n",
    "s_{xy} = \n",
    "\\frac{\\sum_{i=1}^{n} \\left( X_i - \\bar X \\right) \\left( Y_i - \\bar Y \\right)}\n",
    "{n - 1} \\tag{2}\n",
    "\\end{equation*}"
   ]
  },
  {
   "cell_type": "markdown",
   "metadata": {},
   "source": [
    "and $s_{x}$, $s_{y}$ the sample standard deviations of the x and y values respectively. Eq.(1) can be written as"
   ]
  },
  {
   "cell_type": "markdown",
   "metadata": {},
   "source": [
    "\\begin{equation*}\n",
    "r = \\frac{s_{xy}}{s_{x} \\cdot s_{y}} \\tag{3}\n",
    "\\end{equation*}"
   ]
  },
  {
   "cell_type": "markdown",
   "metadata": {},
   "source": [
    "<b>Note</b>: The formula (Eq.1) for the correlation coefficient is symmetrical between x and y—which is not the case for linear regression."
   ]
  },
  {
   "cell_type": "markdown",
   "metadata": {},
   "source": [
    "### Properties and Errors of Correlation"
   ]
  },
  {
   "cell_type": "markdown",
   "metadata": {},
   "source": [
    "When calculating the correlation coefficient, there are several things that could affect computation, including\n",
    "curvilinear relationships, homogeneity of the group, and the size of the group."
   ]
  },
  {
   "cell_type": "markdown",
   "metadata": {},
   "source": [
    "## Linear Regression"
   ]
  },
  {
   "cell_type": "markdown",
   "metadata": {},
   "source": [
    "<b>Linear Regression</b> involves using data (dependent and independent variable) to calculate a line that best fits that data and then using that line to predict a dependent variable using independent variable (the predictor variable).  In order to find best-fit line (regression line) to a given data set $\\left( x_{i}, y_{i} \\right)$, we calculate the parameters $\\left( k, d \\right)$ which minimize the sum of the squared residuals $\\epsilon_{i}$ in $y_{i} = k*x_{i} + d + \\epsilon_{i}$; where $k$ is the slope or inclination of the line, and $d$ the intercept. \n",
    "Residuals are differences between the actual (observed) values and the predicted values. Linear regression is sometimes called Ordinary Least-Squares (OLS) Regression."
   ]
  },
  {
   "cell_type": "markdown",
   "metadata": {},
   "source": [
    "## Simple Linear Regression"
   ]
  },
  {
   "cell_type": "markdown",
   "metadata": {},
   "source": [
    "If the data matrix X contains only two variables, a constant and a scalar regressor $x_{i}$, then this is called the \"simple regression model\". The parameters are denoted as ($\\theta_{0}$, $\\theta_{1}$). Suppose there are 10 data points $\\left( x_{i}, y_{i} \\right)$, where $i = 1,2,3,...10$. The simple linear regression model is"
   ]
  },
  {
   "cell_type": "markdown",
   "metadata": {},
   "source": [
    "$y_{i} = \\theta_{0} + \\theta_{1}x_{i} + \\epsilon_{i} \\tag{4}$"
   ]
  },
  {
   "cell_type": "markdown",
   "metadata": {},
   "source": [
    "where $\\theta_{0}$ is the $y$-intercept and $\\theta_{1}$ is the slope of the regression line. The model can be represented in matrix form as"
   ]
  },
  {
   "cell_type": "markdown",
   "metadata": {},
   "source": [
    "\\begin{equation*}\n",
    "\\begin{vmatrix}\n",
    "{y_{1}} \\\\ {y_{2}} \\\\ {y_{3}} \\\\ {y_{4}} \\\\ {y_{5}} \\\\ {y_{6}} \\\\ {y_{7}} \\\\ {y_{8}} \\\\ {y_{9}} \\\\ {y_{10}} \n",
    "\\end{vmatrix} = \n",
    "\\begin{vmatrix}\n",
    "{1} & {x_{1}} \\\\ {1} & {x_{2}} \\\\ {1} & {x_{3}} \\\\ {1} & {x_{4}} \\\\ {1} & {x_{5}} \\\\ {1} & {x_{6}} \\\\ {1} & {x_{7}} \\\\ {1} & {x_{8}} \\\\ {1} & {x_{9}} \\\\ {1} & {x_{10}} \n",
    "\\end{vmatrix}\\begin{vmatrix}\n",
    "{\\theta_{0}} \\\\ {\\theta_{1}}\n",
    "\\end{vmatrix} + \\begin{vmatrix}\n",
    "{\\epsilon_{1}} \\\\ {\\epsilon_{2}} \\\\ {\\epsilon_{3}} \\\\ {\\epsilon_{4}} \\\\ {\\epsilon_{5}} \\\\ {\\epsilon_{6}} \\\\ {\\epsilon_{7}} \\\\ {\\epsilon_{8}} \\\\ {\\epsilon_{9}} \\\\ {\\epsilon_{10}} \n",
    "\\end{vmatrix} \\tag{5}\n",
    "\\end{equation*}"
   ]
  },
  {
   "cell_type": "markdown",
   "metadata": {},
   "source": [
    "where the first column of ones in the matrix on the right-hand side represents the $y$-intercept, while the second column is the $x$-values associated with the $y$-values. "
   ]
  },
  {
   "cell_type": "markdown",
   "metadata": {},
   "source": [
    "The least squares estimates in this case are given by simple formulas:"
   ]
  },
  {
   "cell_type": "markdown",
   "metadata": {},
   "source": [
    "$\\hat \\theta_{1} = \\frac{n \\left( \\sum xy \\right) - \\left( \\sum x \\right) \\left(\\sum y \\right)}{n \\left( \\sum x^2 \\right) - \\left( \\sum x \\right)^2}  = \\frac{Cov[x,y]}{Var[x]} \\tag{6}$"
   ]
  },
  {
   "cell_type": "markdown",
   "metadata": {},
   "source": [
    "$\\hat \\theta_{0} = \\bar y - \\hat \\theta_{1}\\bar x \\tag{7}$"
   ]
  },
  {
   "cell_type": "markdown",
   "metadata": {},
   "source": [
    "where $Var(.)$ and $Cov(.)$ are sample parameters."
   ]
  },
  {
   "cell_type": "markdown",
   "metadata": {},
   "source": [
    "##### Example:"
   ]
  },
  {
   "cell_type": "code",
   "execution_count": 1,
   "metadata": {},
   "outputs": [],
   "source": [
    "# Importing required packages\n",
    "import numpy as np\n",
    "import matplotlib.pyplot as plt\n",
    "%matplotlib inline"
   ]
  },
  {
   "cell_type": "code",
   "execution_count": 18,
   "metadata": {},
   "outputs": [
    {
     "data": {
      "image/png": "[encoded data removed]",
      "text/plain": [
       "<Figure size 432x288 with 1 Axes>"
      ]
     },
     "metadata": {
      "needs_background": "light"
     },
     "output_type": "display_data"
    }
   ],
   "source": [
    "# Example of simple linear regression\n",
    "x = np.arange(-5.0, 5.0, 0.1)\n",
    "\n",
    "# You can adjust the slope and intercept to verify the changes in the graph\n",
    "y = 2*(x) + 4\n",
    "y_noise = 2 * np.random.normal(size=x.size)\n",
    "ydata = y + y_noise\n",
    "\n",
    "#plt.figure(figsize=(8,6))\n",
    "plt.plot(x, ydata, 'bo')\n",
    "plt.plot(x, y, 'r') \n",
    "plt.ylabel('Dependent Variable')\n",
    "plt.xlabel('Independent Variable')\n",
    "plt.show()"
   ]
  },
  {
   "cell_type": "markdown",
   "metadata": {},
   "source": [
    "### Outliers and Influential Points on the Scatterplot"
   ]
  },
  {
   "cell_type": "markdown",
   "metadata": {},
   "source": [
    "An <b>outlier</b> is an extreme observation that does not fit the general correlation pattern.The outliers stay far away from the regression line in the y-direction. In the regression analysis, the inclusion of an outlier may affect the slope and the y-intercept of the regression line. Hence, in the regression analysis, it is worth considering whether extreme observations or outliers should be included or not. "
   ]
  },
  {
   "cell_type": "markdown",
   "metadata": {},
   "source": [
    "An <b>influential</b> point in regression is one whose removal would greatly impact the equation of the regression line. Usually, an influential point is separated in the x direction from the other observations. Thought, an outlier can be an influential point, however, there are some influential points that would not be considered outliers;\n",
    "they are not far from the regression line in the y-direction. So, in the regression analysis, careful consideration of these points is required."
   ]
  },
  {
   "cell_type": "markdown",
   "metadata": {},
   "source": [
    "## Multiple Linear Regrassion"
   ]
  },
  {
   "cell_type": "markdown",
   "metadata": {},
   "source": [
    "Multiple linear Regression attempts to model the relationship between two or more explanatory variables (independent variables) and a response variable (dependent variable) by fitting a linear equation to observed data. Every value of the independent variable $x$ is associated with a value of the dependent variable $y$. The multiple linear regression model, for $n$ observations, is"
   ]
  },
  {
   "cell_type": "markdown",
   "metadata": {},
   "source": [
    "$y_{i} = \\theta_{0} + \\theta_{1}x_{i1} + \\theta_{2}x_{i2} + \\theta_{3}x_{i3} + \\cdot \\cdot \\cdot + \\theta_{p}x_{ip} + \\epsilon_{i} \\tag{6}$"
   ]
  },
  {
   "cell_type": "markdown",
   "metadata": {},
   "source": [
    "where $i = 1,2,3,...n$. The model can be represented in matrix form as"
   ]
  },
  {
   "cell_type": "markdown",
   "metadata": {},
   "source": [
    "\\begin{equation*}\n",
    "\\begin{vmatrix}\n",
    "{y_{1}} \\\\ {y_{2}} \\\\ {y_{3}} \\\\ \\cdot \\\\ \\cdot \\\\ \\cdot \\\\ {y_{n}} \n",
    "\\end{vmatrix} = \n",
    "\\begin{vmatrix}\n",
    "{1} & {x_{11}} & {x_{12}} & \\cdot \\cdot \\cdot & {x_{1p}} \\\\ {1} & {x_{21}} & {x_{22}} & \\cdot \\cdot \\cdot & {x_{2p}} \\\\ {1} & {x_{31}} & {x_{32}} & \\cdot \\cdot \\cdot & {x_{3p}} \\\\ \\cdot \\\\ \\cdot \\\\ \\cdot \\\\ {1} & {x_{n1}} & {x_{n2}} & \\cdot \\cdot \\cdot & {x_{np}}\n",
    "\\end{vmatrix}\\begin{vmatrix}\n",
    "{\\theta_{0}} \\\\ {\\theta_{1}} \\\\ {\\theta_{2}} \\\\ \\cdot \\\\ \\cdot \\\\ \\cdot \\\\ {\\theta_{p}}\n",
    "\\end{vmatrix} + \\begin{vmatrix}\n",
    "{\\epsilon_{1}} \\\\ {\\epsilon_{2}} \\\\ {\\epsilon_{3}} \\\\ \\cdot \\\\ \\cdot \\\\ \\cdot \\\\ {\\epsilon_{n}}\n",
    "\\end{vmatrix} \\tag{7}\n",
    "\\end{equation*}"
   ]
  },
  {
   "cell_type": "markdown",
   "metadata": {},
   "source": [
    "## Polynomial Regression"
   ]
  },
  {
   "cell_type": "markdown",
   "metadata": {},
   "source": [
    "In statistics, polynomial regression is a form of regression analysis in which the relationship between the independent variable $x$ and the dependent variable $y$ is modelled as an nth degree polynomial in $x$. Polynomial regression fits a nonlinear relationship between the value of x and the corresponding conditional mean of $y$, denoted $E(y |x)$. Although polynomial regression fits a nonlinear model to the data, as a statistical estimation problem it is linear, in the sense that the regression function $E(y | x)$ is linear in the unknown parameters that are estimated from the data. For this reason, polynomial regression is considered to be a special case of multiple linear regression."
   ]
  },
  {
   "cell_type": "markdown",
   "metadata": {},
   "source": [
    "Sometimes, the trend of data is not really linear, and looks curvy. In this case we can use Polynomial regression methods. In fact, many different regressions exist that can be used to fit whatever the dataset looks like, such as quadratic, cubic, and so on, and it can go on and on to infinite degrees.\n",
    "\n",
    "In essence, we can call all of these, polynomial regression, where the relationship between the independent variable $x$ and the dependent variable $y$ is modeled as an nth degree polynomial in $x$. Lets say we want to have a polynomial regression (let's make 2 degree polynomial): $𝑦 = \\theta_{0} + \\theta_{1}𝑥 + \\theta_{2}𝑥^2$\n",
    " \n",
    "Now, the question is: how we can fit our data on this equation while we have only x values, such as Engine Size? Well, we can create a few additional features: 1, $𝑥$, and $𝑥^2$ ."
   ]
  },
  {
   "cell_type": "markdown",
   "metadata": {},
   "source": [
    "#### Explanation"
   ]
  },
  {
   "cell_type": "markdown",
   "metadata": {},
   "source": [
    "Sometimes we find that there is a relationship between X and Y, but it is not best summarized by a straight line.\n",
    "When looking at the scatterplot graphs of correlation patterns, these relationships would be shown to be curvilinear.\n",
    "While many relationships are linear, there are quite a number that are not, including learning curves and exponential growth. Since this is not a linear relationship, we cannot immediately fit a regression line to this data. However, we can perform a transformation to achieve a linear relationship. Consider the following exponential relationship, and take the log of both sides as shown:"
   ]
  },
  {
   "cell_type": "markdown",
   "metadata": {},
   "source": [
    "$$\n",
    "\\begin{array}{c}\n",
    "y = ab^x \\cr\n",
    "\\log y = \\log \\left( ab^x \\right) \\cr\n",
    "\\log y = \\log a + \\log b^x \\cr\n",
    "\\log y = \\log a + x \\log b\n",
    "\\end{array} \\tag{8}\n",
    "$$"
   ]
  },
  {
   "cell_type": "markdown",
   "metadata": {},
   "source": [
    "In this example, $a$ and $b$ are real numbers (constants), $\\log a$ can be assumed as $\\theta_{0}$ and $\\log b$ can be assumed as $\\theta_{1}$, so this is now a linear relationship between the variables $x$ and $\\log y$. Thus, we can calculate a regression line for these variables."
   ]
  },
  {
   "cell_type": "markdown",
   "metadata": {},
   "source": [
    "## Non-Linear Regression"
   ]
  },
  {
   "cell_type": "markdown",
   "metadata": {},
   "source": [
    "In statistics, nonlinear regression is a form of regression analysis in which observational data are modeled by a function which is a nonlinear combination of the model parameters and depends on one or more independent variables. The data are fitted by a method of successive approximations.\n",
    "\n",
    "Non-linear regressions are a relationship between independent variables $𝑥$ and a dependent variable $𝑦$ which result in a non-linear function modeled data. Essentially any relationship that is not linear can be termed as non-linear, and is usually represented by the polynomial of  $𝑘$ degrees (maximum power of 𝑥): $𝑦 = 𝑎𝑥^3 + 𝑏𝑥^2 + 𝑐𝑥 + 𝑑$\n",
    " \n",
    "Non-linear functions can have elements like exponentials, logarithms, fractions, and others. For example: $𝑦 = \\log 𝑥$\n",
    " \n",
    "Or even, more complicated such as : $𝑦 = \\log \\left( 𝑎𝑥^3 + 𝑏𝑥^2 + 𝑐𝑥 + 𝑑 \\right)$"
   ]
  },
  {
   "cell_type": "code",
   "execution_count": 5,
   "metadata": {},
   "outputs": [
    {
     "data": {
      "image/png": "[encoded data removed]",
      "text/plain": [
       "<Figure size 432x288 with 1 Axes>"
      ]
     },
     "metadata": {
      "needs_background": "light"
     },
     "output_type": "display_data"
    }
   ],
   "source": [
    "# Example\n",
    "x = np.arange(-5.0, 5.0, 0.1)\n",
    "\n",
    "##You can adjust the slope and intercept to verify the changes in the graph\n",
    "y = 1*(x**3) + 1*(x**2) + 1*x + 3\n",
    "y_noise = 20 * np.random.normal(size=x.size)\n",
    "ydata = y + y_noise\n",
    "plt.plot(x, ydata,  'bo')\n",
    "plt.plot(x,y, 'r') \n",
    "plt.ylabel('Dependent Variable')\n",
    "plt.xlabel('Independent Variable')\n",
    "plt.show()"
   ]
  },
  {
   "cell_type": "markdown",
   "metadata": {},
   "source": [
    "#### Some other types of non-linear functions are:"
   ]
  },
  {
   "cell_type": "markdown",
   "metadata": {},
   "source": [
    "##### Quadratic"
   ]
  },
  {
   "cell_type": "markdown",
   "metadata": {},
   "source": [
    "$𝑌 = 𝑋^2 \\tag{9}$ "
   ]
  },
  {
   "cell_type": "code",
   "execution_count": 6,
   "metadata": {},
   "outputs": [
    {
     "data": {
      "image/png": "[encoded data removed]",
      "text/plain": [
       "<Figure size 432x288 with 1 Axes>"
      ]
     },
     "metadata": {
      "needs_background": "light"
     },
     "output_type": "display_data"
    }
   ],
   "source": [
    "x = np.arange(-5.0, 5.0, 0.1)\n",
    "\n",
    "##You can adjust the slope and intercept to verify the changes in the graph\n",
    "\n",
    "y = np.power(x,2)\n",
    "y_noise = 2 * np.random.normal(size=x.size)\n",
    "ydata = y + y_noise\n",
    "plt.plot(x, ydata,  'bo')\n",
    "plt.plot(x,y, 'r') \n",
    "plt.ylabel('Dependent Variable')\n",
    "plt.xlabel('Independent Variable')\n",
    "plt.show()"
   ]
  },
  {
   "cell_type": "markdown",
   "metadata": {},
   "source": [
    "##### Exponential"
   ]
  },
  {
   "cell_type": "markdown",
   "metadata": {},
   "source": [
    "An exponential function with base $c$ is defined by"
   ]
  },
  {
   "cell_type": "markdown",
   "metadata": {},
   "source": [
    "$𝑌 = 𝑎 + 𝑏𝑐^𝑋 \\tag{10}$"
   ]
  },
  {
   "cell_type": "markdown",
   "metadata": {},
   "source": [
    "where $b$ ≠0, $c$ > 0 , $c$ ≠1, and $x$ is any real number. The base, $c$, is constant and the exponent, $x$, is a variable."
   ]
  },
  {
   "cell_type": "code",
   "execution_count": 16,
   "metadata": {},
   "outputs": [
    {
     "data": {
      "image/png": "[encoded data removed]",
      "text/plain": [
       "<Figure size 432x288 with 1 Axes>"
      ]
     },
     "metadata": {
      "needs_background": "light"
     },
     "output_type": "display_data"
    }
   ],
   "source": [
    "X = np.arange(-5.0, 5.0, 0.1)\n",
    "\n",
    "##You can adjust the slope and intercept to verify the changes in the graph\n",
    "\n",
    "Y= np.exp(X)\n",
    "\n",
    "plt.plot(X,Y, 'bo') \n",
    "plt.ylabel('Dependent Variable')\n",
    "plt.xlabel('Independent Variable')\n",
    "plt.show()"
   ]
  },
  {
   "cell_type": "markdown",
   "metadata": {},
   "source": [
    "##### Logarithmic"
   ]
  },
  {
   "cell_type": "markdown",
   "metadata": {},
   "source": [
    "The response $𝑦$  is a results of applying logarithmic map from input $𝑥$ 's to output variable $𝑦$. It is one of the simplest form of log(): i.e. $𝑦 = \\log 𝑥$\n",
    "In general form it would be written as: $𝑦 = \\log 𝑋 \\tag{11}$"
   ]
  },
  {
   "cell_type": "code",
   "execution_count": 14,
   "metadata": {},
   "outputs": [],
   "source": [
    "#X = np.arange(-5.0, 5.0, 0.1)\n",
    "\n",
    "#Y = np.log(X)\n",
    "\n",
    "\n",
    "#plt.plot(X,Y, 'bo') \n",
    "#plt.ylabel('Dependent Variable')\n",
    "# plt.xlabel('Independent Variable')\n",
    "# plt.show()"
   ]
  },
  {
   "cell_type": "markdown",
   "metadata": {},
   "source": [
    "##### Sigmoidal/Logistic"
   ]
  },
  {
   "cell_type": "markdown",
   "metadata": {},
   "source": [
    "$Y = a + \\frac{b}{1 + c^\\left( X−d \\right)} \\tag{12}$"
   ]
  },
  {
   "cell_type": "code",
   "execution_count": 17,
   "metadata": {},
   "outputs": [
    {
     "data": {
      "image/png": "[encoded data removed]",
      "text/plain": [
       "<Figure size 432x288 with 1 Axes>"
      ]
     },
     "metadata": {
      "needs_background": "light"
     },
     "output_type": "display_data"
    }
   ],
   "source": [
    "X = np.arange(-5.0, 5.0, 0.1)\n",
    "\n",
    "\n",
    "Y = 1-4/(1+np.power(3, X-2))\n",
    "\n",
    "plt.plot(X,Y, 'bo') \n",
    "plt.ylabel('Dependent Variable')\n",
    "plt.xlabel('Independent Variable')\n",
    "plt.show()"
   ]
  },
  {
   "cell_type": "markdown",
   "metadata": {},
   "source": [
    "## Coefficient of Determination"
   ]
  },
  {
   "cell_type": "markdown",
   "metadata": {},
   "source": [
    "In statistics, the coefficient of determination, denoted R2 or r2 and pronounced \"R squared\", is the proportion of the variance in the dependent variable that is predictable from the independent variable(s).\n",
    "\n",
    "It is a statistic used in the context of statistical models that provides a measure of how well observed outcomes are replicated by the model, based on the proportion of total variation of outcomes explained by the model.\n",
    "\n",
    "There are several definitions of R2 that are only sometimes equivalent. In simple linear regression, $r^2$ is used instead of $R^2$. When an intercept is included, then $r^2$ is simply the square of the sample correlation coefficient (i.e., $r$) between the observed outcomes and the observed predictor values. If additional regressors are included, $R^2$ is the square of the coefficient of multiple correlation. In both such cases, the coefficient of determination normally ranges from 0 to 1."
   ]
  },
  {
   "cell_type": "markdown",
   "metadata": {},
   "source": [
    "A data set has values $y_{i}$, each of which has an associated modeled value $\\hat y_{i}$. The values $y_{i}$ are called the observed values, and the modeled values $\\hat y_{i}$ are called the predicted values. The residuals are defined as $\\epsilon_{i} = y_{i} - \\hat y_{i}$. If $\\bar y$ is the mean of the observed data, for $n$ observations, as defined below:"
   ]
  },
  {
   "cell_type": "markdown",
   "metadata": {},
   "source": [
    "$\\bar y = \\frac{1}{n}\\sum_{i=1}^{n}y_{i} \\tag{13}$"
   ]
  },
  {
   "cell_type": "markdown",
   "metadata": {},
   "source": [
    "then the “variability” of the data set is measured in two sums of squares formulas:"
   ]
  },
  {
   "cell_type": "markdown",
   "metadata": {},
   "source": [
    "The Total Sum of Squares: $SS_{tot} = \\sum_{i} \\left(y_{i} - \\bar y \\right)^2 \\tag{14}$"
   ]
  },
  {
   "cell_type": "markdown",
   "metadata": {},
   "source": [
    "The Residuals Sum of Squares, or the sum of squares for the errors: $SS_{res} = \\sum_{i} \\left(y_{i} - \\hat y \\right)^2 = \\sum_{i} \\epsilon_{i}^2 \\tag{15}$\n"
   ]
  },
  {
   "cell_type": "markdown",
   "metadata": {},
   "source": [
    "The Coefficient of determination: $R^2 = 1 - \\frac{SS_{res}}{SS_{tot}} \\tag{16}$"
   ]
  },
  {
   "cell_type": "markdown",
   "metadata": {},
   "source": [
    "In the best case, the modeled values exactly match the observed values, which results in $SS_{res} = 0$ and $R^2 = 1$."
   ]
  },
  {
   "cell_type": "markdown",
   "metadata": {},
   "source": [
    "### Interpretation"
   ]
  },
  {
   "cell_type": "markdown",
   "metadata": {},
   "source": [
    "- $R^2$ is a statistic that will give some information about the goodness of fit of a model. \n",
    "- In regression, the $R^2$ coefficient of determination provides how well the regression predictions approximate the real data points. \n",
    "- $R^2$ of 1 indicates that the regression predictions perfectly fit the data.\n",
    "- $R^2$ outside the range 0 to 1 can occur when the model fits the data worse than a horizontal hyperplane. \n",
    "- In all instances where $R^2$ is used, the predictors are calculated by ordinary least-squares regression: that is, by minimizing Residuals Sum of Squares $SS_{res}$. "
   ]
  },
  {
   "cell_type": "markdown",
   "metadata": {},
   "source": [
    "## Simple Linear Regression Analysis in Python"
   ]
  },
  {
   "cell_type": "code",
   "execution_count": null,
   "metadata": {},
   "outputs": [],
   "source": []
  }
 ],
 "metadata": {
  "kernelspec": {
   "display_name": "Python 3",
   "language": "python",
   "name": "python3"
  },
  "language_info": {
   "codemirror_mode": {
    "name": "ipython",
    "version": 3
   },
   "file_extension": ".py",
   "mimetype": "text/x-python",
   "name": "python",
   "nbconvert_exporter": "python",
   "pygments_lexer": "ipython3",
   "version": "3.7.3"
  }
 },
 "nbformat": 4,
 "nbformat_minor": 2
}
